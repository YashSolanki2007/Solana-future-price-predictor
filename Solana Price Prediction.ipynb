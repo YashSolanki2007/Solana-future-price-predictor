{
 "cells": [
  {
   "cell_type": "markdown",
   "metadata": {},
   "source": [
    "## Imports"
   ]
  },
  {
   "cell_type": "code",
   "execution_count": 1,
   "metadata": {},
   "outputs": [],
   "source": [
    "import tensorflow as tf \n",
    "from tensorflow import keras \n",
    "from matplotlib import pyplot as plt \n",
    "import pandas as pd \n",
    "import numpy as np \n",
    "from sklearn.preprocessing import MinMaxScaler"
   ]
  },
  {
   "cell_type": "markdown",
   "metadata": {},
   "source": [
    "## Loading in the data "
   ]
  },
  {
   "cell_type": "code",
   "execution_count": 2,
   "metadata": {},
   "outputs": [],
   "source": [
    "data = pd.read_csv(\"SOL-USD.csv\")"
   ]
  },
  {
   "cell_type": "code",
   "execution_count": 3,
   "metadata": {},
   "outputs": [
    {
     "data": {
      "text/html": [
       "<div>\n",
       "<style scoped>\n",
       "    .dataframe tbody tr th:only-of-type {\n",
       "        vertical-align: middle;\n",
       "    }\n",
       "\n",
       "    .dataframe tbody tr th {\n",
       "        vertical-align: top;\n",
       "    }\n",
       "\n",
       "    .dataframe thead th {\n",
       "        text-align: right;\n",
       "    }\n",
       "</style>\n",
       "<table border=\"1\" class=\"dataframe\">\n",
       "  <thead>\n",
       "    <tr style=\"text-align: right;\">\n",
       "      <th></th>\n",
       "      <th>Date</th>\n",
       "      <th>Open</th>\n",
       "      <th>High</th>\n",
       "      <th>Low</th>\n",
       "      <th>Close</th>\n",
       "      <th>Adj Close</th>\n",
       "      <th>Volume</th>\n",
       "    </tr>\n",
       "  </thead>\n",
       "  <tbody>\n",
       "    <tr>\n",
       "      <th>0</th>\n",
       "      <td>2020-04-10</td>\n",
       "      <td>0.832005</td>\n",
       "      <td>1.313487</td>\n",
       "      <td>0.694187</td>\n",
       "      <td>0.951054</td>\n",
       "      <td>0.951054</td>\n",
       "      <td>87364276</td>\n",
       "    </tr>\n",
       "    <tr>\n",
       "      <th>1</th>\n",
       "      <td>2020-04-11</td>\n",
       "      <td>0.951054</td>\n",
       "      <td>1.049073</td>\n",
       "      <td>0.765020</td>\n",
       "      <td>0.776819</td>\n",
       "      <td>0.776819</td>\n",
       "      <td>43862444</td>\n",
       "    </tr>\n",
       "    <tr>\n",
       "      <th>2</th>\n",
       "      <td>2020-04-12</td>\n",
       "      <td>0.785448</td>\n",
       "      <td>0.956670</td>\n",
       "      <td>0.762426</td>\n",
       "      <td>0.882507</td>\n",
       "      <td>0.882507</td>\n",
       "      <td>38736897</td>\n",
       "    </tr>\n",
       "    <tr>\n",
       "      <th>3</th>\n",
       "      <td>2020-04-13</td>\n",
       "      <td>0.890760</td>\n",
       "      <td>0.891603</td>\n",
       "      <td>0.773976</td>\n",
       "      <td>0.777832</td>\n",
       "      <td>0.777832</td>\n",
       "      <td>18211285</td>\n",
       "    </tr>\n",
       "    <tr>\n",
       "      <th>4</th>\n",
       "      <td>2020-04-14</td>\n",
       "      <td>0.777832</td>\n",
       "      <td>0.796472</td>\n",
       "      <td>0.628169</td>\n",
       "      <td>0.661925</td>\n",
       "      <td>0.661925</td>\n",
       "      <td>16747614</td>\n",
       "    </tr>\n",
       "  </tbody>\n",
       "</table>\n",
       "</div>"
      ],
      "text/plain": [
       "         Date      Open      High       Low     Close  Adj Close    Volume\n",
       "0  2020-04-10  0.832005  1.313487  0.694187  0.951054   0.951054  87364276\n",
       "1  2020-04-11  0.951054  1.049073  0.765020  0.776819   0.776819  43862444\n",
       "2  2020-04-12  0.785448  0.956670  0.762426  0.882507   0.882507  38736897\n",
       "3  2020-04-13  0.890760  0.891603  0.773976  0.777832   0.777832  18211285\n",
       "4  2020-04-14  0.777832  0.796472  0.628169  0.661925   0.661925  16747614"
      ]
     },
     "execution_count": 3,
     "metadata": {},
     "output_type": "execute_result"
    }
   ],
   "source": [
    "data.head()"
   ]
  },
  {
   "cell_type": "markdown",
   "metadata": {},
   "source": [
    "## Defining the scaler "
   ]
  },
  {
   "cell_type": "code",
   "execution_count": 4,
   "metadata": {},
   "outputs": [],
   "source": [
    "scaler = MinMaxScaler(feature_range=(0, 1))"
   ]
  },
  {
   "cell_type": "code",
   "execution_count": 5,
   "metadata": {},
   "outputs": [],
   "source": [
    "close_data = data['Close']"
   ]
  },
  {
   "cell_type": "markdown",
   "metadata": {},
   "source": [
    "## Fitting the scaler on the data"
   ]
  },
  {
   "cell_type": "code",
   "execution_count": 6,
   "metadata": {},
   "outputs": [],
   "source": [
    "final_data = scaler.fit_transform(close_data.values.reshape(-1, 1))"
   ]
  },
  {
   "cell_type": "markdown",
   "metadata": {},
   "source": [
    "## Creating the training data"
   ]
  },
  {
   "cell_type": "code",
   "execution_count": 7,
   "metadata": {},
   "outputs": [],
   "source": [
    "prediction_days = 50\n",
    "x_train, y_train = [], []\n",
    "\n",
    "for i in range(prediction_days, len(final_data)):\n",
    "    x_train.append(final_data[i - prediction_days:i, 0])\n",
    "    y_train.append(final_data[i, 0])"
   ]
  },
  {
   "cell_type": "code",
   "execution_count": 8,
   "metadata": {},
   "outputs": [],
   "source": [
    "x_train = np.array(x_train)\n",
    "y_train = np.array(y_train)"
   ]
  },
  {
   "cell_type": "code",
   "execution_count": 9,
   "metadata": {},
   "outputs": [
    {
     "data": {
      "text/plain": [
       "array([[0.00168633, 0.0010121 , 0.00142108, ..., 0.00029298, 0.00023172,\n",
       "        0.00024821],\n",
       "       [0.0010121 , 0.00142108, 0.00101602, ..., 0.00023172, 0.00024821,\n",
       "        0.00028117],\n",
       "       [0.00142108, 0.00101602, 0.0005675 , ..., 0.00024821, 0.00028117,\n",
       "        0.00021186],\n",
       "       ...,\n",
       "       [0.00023172, 0.00024821, 0.00028117, ..., 0.00244874, 0.00299639,\n",
       "        0.00138213],\n",
       "       [0.00024821, 0.00028117, 0.00021186, ..., 0.00299639, 0.00138213,\n",
       "        0.00178998],\n",
       "       [0.00028117, 0.00021186, 0.00024078, ..., 0.00138213, 0.00178998,\n",
       "        0.00174643]])"
      ]
     },
     "execution_count": 9,
     "metadata": {},
     "output_type": "execute_result"
    }
   ],
   "source": [
    "x_train[0:51]"
   ]
  },
  {
   "cell_type": "code",
   "execution_count": 10,
   "metadata": {},
   "outputs": [],
   "source": [
    "x_train = np.reshape(x_train, (x_train.shape[0], x_train.shape[1], 1))"
   ]
  },
  {
   "cell_type": "markdown",
   "metadata": {},
   "source": [
    "## Making the model (RNN)"
   ]
  },
  {
   "cell_type": "code",
   "execution_count": 11,
   "metadata": {},
   "outputs": [],
   "source": [
    "model = keras.Sequential([\n",
    "#     keras.layers.Bidirectional(keras.layers.LSTM(units=100, return_sequences=True, input_shape=(x_train.shape[1], 1))), \n",
    "#     keras.layers.Dropout(0.15),\n",
    "#     keras.layers.Bidirectional(keras.layers.LSTM(units=50, return_sequences=True)), \n",
    "    keras.layers.LSTM(10, return_sequences=True, input_shape=(x_train.shape[1], 1)),\n",
    "    keras.layers.LSTM(10, return_sequences=True), \n",
    "    keras.layers.Dense(1)\n",
    "])"
   ]
  },
  {
   "cell_type": "code",
   "execution_count": 12,
   "metadata": {},
   "outputs": [
    {
     "name": "stdout",
     "output_type": "stream",
     "text": [
      "Epoch 1/30\n",
      "24/24 [==============================] - 3s 27ms/step - loss: 0.1111\n",
      "Epoch 2/30\n",
      "24/24 [==============================] - 1s 25ms/step - loss: 0.0304\n",
      "Epoch 3/30\n",
      "24/24 [==============================] - 1s 25ms/step - loss: 0.0233\n",
      "Epoch 4/30\n",
      "24/24 [==============================] - 1s 26ms/step - loss: 0.0218\n",
      "Epoch 5/30\n",
      "24/24 [==============================] - 1s 24ms/step - loss: 0.0189\n",
      "Epoch 6/30\n",
      "24/24 [==============================] - 1s 25ms/step - loss: 0.0218\n",
      "Epoch 7/30\n",
      "24/24 [==============================] - 1s 24ms/step - loss: 0.0186\n",
      "Epoch 8/30\n",
      "24/24 [==============================] - 1s 24ms/step - loss: 0.0177\n",
      "Epoch 9/30\n",
      "24/24 [==============================] - 1s 23ms/step - loss: 0.0183\n",
      "Epoch 10/30\n",
      "24/24 [==============================] - 1s 25ms/step - loss: 0.0182\n",
      "Epoch 11/30\n",
      "24/24 [==============================] - 1s 24ms/step - loss: 0.0171\n",
      "Epoch 12/30\n",
      "24/24 [==============================] - 1s 24ms/step - loss: 0.0169\n",
      "Epoch 13/30\n",
      "24/24 [==============================] - 1s 23ms/step - loss: 0.0166\n",
      "Epoch 14/30\n",
      "24/24 [==============================] - 1s 23ms/step - loss: 0.0165\n",
      "Epoch 15/30\n",
      "24/24 [==============================] - 1s 23ms/step - loss: 0.0176\n",
      "Epoch 16/30\n",
      "24/24 [==============================] - 1s 23ms/step - loss: 0.0163\n",
      "Epoch 17/30\n",
      "24/24 [==============================] - 1s 23ms/step - loss: 0.0155\n",
      "Epoch 18/30\n",
      "24/24 [==============================] - 1s 25ms/step - loss: 0.0147\n",
      "Epoch 19/30\n",
      "24/24 [==============================] - 1s 24ms/step - loss: 0.0151\n",
      "Epoch 20/30\n",
      "24/24 [==============================] - 1s 23ms/step - loss: 0.0164\n",
      "Epoch 21/30\n",
      "24/24 [==============================] - 1s 24ms/step - loss: 0.0155\n",
      "Epoch 22/30\n",
      "24/24 [==============================] - 1s 25ms/step - loss: 0.0160\n",
      "Epoch 23/30\n",
      "24/24 [==============================] - 1s 24ms/step - loss: 0.0142\n",
      "Epoch 24/30\n",
      "24/24 [==============================] - 1s 24ms/step - loss: 0.0149\n",
      "Epoch 25/30\n",
      "24/24 [==============================] - 1s 24ms/step - loss: 0.0157\n",
      "Epoch 26/30\n",
      "24/24 [==============================] - 1s 24ms/step - loss: 0.0139\n",
      "Epoch 27/30\n",
      "24/24 [==============================] - 1s 23ms/step - loss: 0.0151\n",
      "Epoch 28/30\n",
      "24/24 [==============================] - 1s 23ms/step - loss: 0.0158\n",
      "Epoch 29/30\n",
      "24/24 [==============================] - 1s 23ms/step - loss: 0.0152\n",
      "Epoch 30/30\n",
      "24/24 [==============================] - 1s 23ms/step - loss: 0.0141\n"
     ]
    },
    {
     "data": {
      "text/plain": [
       "<tensorflow.python.keras.callbacks.History at 0x7fe431f15190>"
      ]
     },
     "execution_count": 12,
     "metadata": {},
     "output_type": "execute_result"
    }
   ],
   "source": [
    "model.compile(optimizer='adam', loss='mean_squared_error')\n",
    "model.fit(x_train, y_train, epochs=30)"
   ]
  },
  {
   "cell_type": "code",
   "execution_count": 14,
   "metadata": {},
   "outputs": [
    {
     "name": "stdout",
     "output_type": "stream",
     "text": [
      "Epoch 1/50\n",
      "24/24 [==============================] - 4s 33ms/step - loss: 0.0116\n",
      "Epoch 2/50\n",
      "24/24 [==============================] - 1s 29ms/step - loss: 0.0110\n",
      "Epoch 3/50\n",
      "24/24 [==============================] - 1s 29ms/step - loss: 0.0121\n",
      "Epoch 4/50\n",
      "24/24 [==============================] - 1s 25ms/step - loss: 0.0116\n",
      "Epoch 5/50\n",
      "24/24 [==============================] - 1s 34ms/step - loss: 0.0125\n",
      "Epoch 6/50\n",
      "24/24 [==============================] - 1s 25ms/step - loss: 0.0125\n",
      "Epoch 7/50\n",
      "24/24 [==============================] - 1s 26ms/step - loss: 0.0128\n",
      "Epoch 8/50\n",
      "24/24 [==============================] - 1s 26ms/step - loss: 0.0117\n",
      "Epoch 9/50\n",
      "24/24 [==============================] - 1s 25ms/step - loss: 0.0127\n",
      "Epoch 10/50\n",
      "24/24 [==============================] - 1s 28ms/step - loss: 0.0113\n",
      "Epoch 11/50\n",
      "24/24 [==============================] - 1s 26ms/step - loss: 0.0118\n",
      "Epoch 12/50\n",
      "24/24 [==============================] - 1s 24ms/step - loss: 0.0124\n",
      "Epoch 13/50\n",
      "24/24 [==============================] - 1s 23ms/step - loss: 0.0118\n",
      "Epoch 14/50\n",
      "24/24 [==============================] - 1s 23ms/step - loss: 0.0135\n",
      "Epoch 15/50\n",
      "24/24 [==============================] - 1s 23ms/step - loss: 0.0111\n",
      "Epoch 16/50\n",
      "24/24 [==============================] - 1s 23ms/step - loss: 0.0134\n",
      "Epoch 17/50\n",
      "24/24 [==============================] - 1s 23ms/step - loss: 0.0115\n",
      "Epoch 18/50\n",
      "24/24 [==============================] - 1s 23ms/step - loss: 0.0125\n",
      "Epoch 19/50\n",
      "24/24 [==============================] - 1s 23ms/step - loss: 0.0131\n",
      "Epoch 20/50\n",
      "24/24 [==============================] - 1s 23ms/step - loss: 0.0126\n",
      "Epoch 21/50\n",
      "24/24 [==============================] - 1s 23ms/step - loss: 0.0129\n",
      "Epoch 22/50\n",
      "24/24 [==============================] - 1s 23ms/step - loss: 0.0126\n",
      "Epoch 23/50\n",
      "24/24 [==============================] - 1s 23ms/step - loss: 0.0103\n",
      "Epoch 24/50\n",
      "24/24 [==============================] - 1s 23ms/step - loss: 0.0118\n",
      "Epoch 25/50\n",
      "24/24 [==============================] - 1s 23ms/step - loss: 0.0112\n",
      "Epoch 26/50\n",
      "24/24 [==============================] - 1s 23ms/step - loss: 0.0118\n",
      "Epoch 27/50\n",
      "24/24 [==============================] - 1s 23ms/step - loss: 0.0121\n",
      "Epoch 28/50\n",
      "24/24 [==============================] - 1s 24ms/step - loss: 0.0131\n",
      "Epoch 29/50\n",
      "24/24 [==============================] - 1s 23ms/step - loss: 0.0116\n",
      "Epoch 30/50\n",
      "24/24 [==============================] - 1s 23ms/step - loss: 0.0109\n",
      "Epoch 31/50\n",
      "24/24 [==============================] - 1s 23ms/step - loss: 0.0111\n",
      "Epoch 32/50\n",
      "24/24 [==============================] - 1s 23ms/step - loss: 0.0113\n",
      "Epoch 33/50\n",
      "24/24 [==============================] - 1s 23ms/step - loss: 0.0117\n",
      "Epoch 34/50\n",
      "24/24 [==============================] - 1s 25ms/step - loss: 0.0115\n",
      "Epoch 35/50\n",
      "24/24 [==============================] - 1s 24ms/step - loss: 0.0109\n",
      "Epoch 36/50\n",
      "24/24 [==============================] - 1s 24ms/step - loss: 0.0125\n",
      "Epoch 37/50\n",
      "24/24 [==============================] - 1s 23ms/step - loss: 0.0122\n",
      "Epoch 38/50\n",
      "24/24 [==============================] - 1s 23ms/step - loss: 0.0122\n",
      "Epoch 39/50\n",
      "24/24 [==============================] - 1s 23ms/step - loss: 0.0127\n",
      "Epoch 40/50\n",
      "24/24 [==============================] - 1s 23ms/step - loss: 0.0111\n",
      "Epoch 41/50\n",
      "24/24 [==============================] - 1s 23ms/step - loss: 0.0114\n",
      "Epoch 42/50\n",
      "24/24 [==============================] - 1s 23ms/step - loss: 0.0111\n",
      "Epoch 43/50\n",
      "24/24 [==============================] - 1s 23ms/step - loss: 0.0124\n",
      "Epoch 44/50\n",
      "24/24 [==============================] - 1s 23ms/step - loss: 0.0125\n",
      "Epoch 45/50\n",
      "24/24 [==============================] - 1s 23ms/step - loss: 0.0122\n",
      "Epoch 46/50\n",
      "24/24 [==============================] - 1s 23ms/step - loss: 0.0110\n",
      "Epoch 47/50\n",
      "24/24 [==============================] - 1s 24ms/step - loss: 0.0109\n",
      "Epoch 48/50\n",
      "24/24 [==============================] - 1s 23ms/step - loss: 0.0124\n",
      "Epoch 49/50\n",
      "24/24 [==============================] - 1s 23ms/step - loss: 0.0107\n",
      "Epoch 50/50\n",
      "24/24 [==============================] - 1s 24ms/step - loss: 0.0117\n"
     ]
    },
    {
     "data": {
      "text/plain": [
       "<tensorflow.python.keras.callbacks.History at 0x7fe415cce610>"
      ]
     },
     "execution_count": 14,
     "metadata": {},
     "output_type": "execute_result"
    }
   ],
   "source": [
    "model.compile(optimizer='adam', loss='mean_squared_error')\n",
    "model.fit(x_train, y_train, epochs=50)"
   ]
  },
  {
   "cell_type": "markdown",
   "metadata": {},
   "source": [
    "## Predictions"
   ]
  },
  {
   "cell_type": "code",
   "execution_count": 15,
   "metadata": {},
   "outputs": [
    {
     "data": {
      "text/plain": [
       "787"
      ]
     },
     "execution_count": 15,
     "metadata": {},
     "output_type": "execute_result"
    }
   ],
   "source": [
    "len(close_data)"
   ]
  },
  {
   "cell_type": "code",
   "execution_count": 30,
   "metadata": {},
   "outputs": [],
   "source": [
    "# Predictions \n",
    "test_data = close_data[700:]"
   ]
  },
  {
   "cell_type": "code",
   "execution_count": 31,
   "metadata": {},
   "outputs": [],
   "source": [
    "test_data = test_data.values"
   ]
  },
  {
   "cell_type": "code",
   "execution_count": 55,
   "metadata": {},
   "outputs": [
    {
     "data": {
      "text/plain": [
       "numpy.ndarray"
      ]
     },
     "execution_count": 55,
     "metadata": {},
     "output_type": "execute_result"
    }
   ],
   "source": [
    "type(test_data)"
   ]
  },
  {
   "cell_type": "code",
   "execution_count": 32,
   "metadata": {},
   "outputs": [],
   "source": [
    "# Adding the min max scaler to the test data \n",
    "test_data = scaler.transform(test_data.reshape(-1, 1))"
   ]
  },
  {
   "cell_type": "code",
   "execution_count": 33,
   "metadata": {},
   "outputs": [],
   "source": [
    "test_data = np.array(test_data)"
   ]
  },
  {
   "cell_type": "code",
   "execution_count": 34,
   "metadata": {},
   "outputs": [],
   "source": [
    "test_data = np.reshape(test_data, (test_data.shape[0], test_data.shape[1], 1))"
   ]
  },
  {
   "cell_type": "code",
   "execution_count": 35,
   "metadata": {},
   "outputs": [
    {
     "data": {
      "text/plain": [
       "(87, 1, 1)"
      ]
     },
     "execution_count": 35,
     "metadata": {},
     "output_type": "execute_result"
    }
   ],
   "source": [
    "test_data.shape"
   ]
  },
  {
   "cell_type": "code",
   "execution_count": 36,
   "metadata": {},
   "outputs": [
    {
     "name": "stdout",
     "output_type": "stream",
     "text": [
      "[[[0.31253895]]\n",
      "\n",
      " [[0.31506276]]\n",
      "\n",
      " [[0.30688253]]\n",
      "\n",
      " [[0.31387597]]\n",
      "\n",
      " [[0.31942683]]\n",
      "\n",
      " [[0.3347401 ]]\n",
      "\n",
      " [[0.33465767]]\n",
      "\n",
      " [[0.3406299 ]]\n",
      "\n",
      " [[0.3485535 ]]\n",
      "\n",
      " [[0.336927  ]]\n",
      "\n",
      " [[0.3373642 ]]\n",
      "\n",
      " [[0.3427441 ]]\n",
      "\n",
      " [[0.3566857 ]]\n",
      "\n",
      " [[0.37792152]]\n",
      "\n",
      " [[0.36735234]]\n",
      "\n",
      " [[0.37656698]]\n",
      "\n",
      " [[0.39210665]]\n",
      "\n",
      " [[0.3903151 ]]\n",
      "\n",
      " [[0.4053536 ]]\n",
      "\n",
      " [[0.43033746]]\n",
      "\n",
      " [[0.4356523 ]]\n",
      "\n",
      " [[0.46645984]]\n",
      "\n",
      " [[0.46076015]]\n",
      "\n",
      " [[0.4723739 ]]\n",
      "\n",
      " [[0.46130893]]\n",
      "\n",
      " [[0.44686094]]\n",
      "\n",
      " [[0.40867168]]\n",
      "\n",
      " [[0.42513454]]\n",
      "\n",
      " [[0.39991686]]\n",
      "\n",
      " [[0.40892383]]\n",
      "\n",
      " [[0.4054447 ]]\n",
      "\n",
      " [[0.36938116]]\n",
      "\n",
      " [[0.38110405]]\n",
      "\n",
      " [[0.38606218]]\n",
      "\n",
      " [[0.37344432]]\n",
      "\n",
      " [[0.37522522]]\n",
      "\n",
      " [[0.3780205 ]]\n",
      "\n",
      " [[0.37256107]]\n",
      "\n",
      " [[0.3777295 ]]\n",
      "\n",
      " [[0.39642352]]\n",
      "\n",
      " [[0.38750374]]\n",
      "\n",
      " [[0.3766022 ]]\n",
      "\n",
      " [[0.37316075]]\n",
      "\n",
      " [[0.37355286]]\n",
      "\n",
      " [[0.36907372]]\n",
      "\n",
      " [[0.37504154]]\n",
      "\n",
      " [[0.3587336 ]]\n",
      "\n",
      " [[0.36651912]]\n",
      "\n",
      " [[0.36594233]]\n",
      "\n",
      " [[0.3533876 ]]\n",
      "\n",
      " [[0.32607153]]\n",
      "\n",
      " [[0.34016877]]\n",
      "\n",
      " [[0.3337469 ]]\n",
      "\n",
      " [[0.32838148]]\n",
      "\n",
      " [[0.3496256 ]]\n",
      "\n",
      " [[0.32452253]]\n",
      "\n",
      " [[0.3157184 ]]\n",
      "\n",
      " [[0.30703074]]\n",
      "\n",
      " [[0.29521903]]\n",
      "\n",
      " [[0.25751215]]\n",
      "\n",
      " [[0.268552  ]]\n",
      "\n",
      " [[0.21659929]]\n",
      "\n",
      " [[0.19959398]]\n",
      "\n",
      " [[0.21159783]]\n",
      "\n",
      " [[0.22345221]]\n",
      "\n",
      " [[0.24346602]]\n",
      "\n",
      " [[0.22728354]]\n",
      "\n",
      " [[0.23817149]]\n",
      "\n",
      " [[0.21519136]]\n",
      "\n",
      " [[0.2228196 ]]\n",
      "\n",
      " [[0.21451774]]\n",
      "\n",
      " [[0.21693128]]\n",
      "\n",
      " [[0.22450465]]\n",
      "\n",
      " [[0.21302857]]\n",
      "\n",
      " [[0.21487302]]\n",
      "\n",
      " [[0.20971315]]\n",
      "\n",
      " [[0.19596073]]\n",
      "\n",
      " [[0.18835962]]\n",
      "\n",
      " [[0.19855526]]\n",
      "\n",
      " [[0.2002842 ]]\n",
      "\n",
      " [[0.20724139]]\n",
      "\n",
      " [[0.20290935]]\n",
      "\n",
      " [[0.18621647]]\n",
      "\n",
      " [[0.1880883 ]]\n",
      "\n",
      " [[0.180193  ]]\n",
      "\n",
      " [[0.18220185]]\n",
      "\n",
      " [[0.18299216]]]\n"
     ]
    }
   ],
   "source": [
    "prediction = model.predict(test_data)\n",
    "# print(prediction[0:10])\n",
    "# prediction.shape\n",
    "print(prediction)"
   ]
  },
  {
   "cell_type": "code",
   "execution_count": null,
   "metadata": {},
   "outputs": [],
   "source": []
  },
  {
   "cell_type": "code",
   "execution_count": 37,
   "metadata": {},
   "outputs": [
    {
     "name": "stdout",
     "output_type": "stream",
     "text": [
      "[[0.31253895]\n",
      " [0.31506276]\n",
      " [0.30688253]\n",
      " [0.31387597]\n",
      " [0.31942683]\n",
      " [0.3347401 ]\n",
      " [0.33465767]\n",
      " [0.3406299 ]\n",
      " [0.3485535 ]\n",
      " [0.336927  ]\n",
      " [0.3373642 ]\n",
      " [0.3427441 ]\n",
      " [0.3566857 ]\n",
      " [0.37792152]\n",
      " [0.36735234]\n",
      " [0.37656698]\n",
      " [0.39210665]\n",
      " [0.3903151 ]\n",
      " [0.4053536 ]\n",
      " [0.43033746]\n",
      " [0.4356523 ]\n",
      " [0.46645984]\n",
      " [0.46076015]\n",
      " [0.4723739 ]\n",
      " [0.46130893]\n",
      " [0.44686094]\n",
      " [0.40867168]\n",
      " [0.42513454]\n",
      " [0.39991686]\n",
      " [0.40892383]\n",
      " [0.4054447 ]\n",
      " [0.36938116]\n",
      " [0.38110405]\n",
      " [0.38606218]\n",
      " [0.37344432]\n",
      " [0.37522522]\n",
      " [0.3780205 ]\n",
      " [0.37256107]\n",
      " [0.3777295 ]\n",
      " [0.39642352]\n",
      " [0.38750374]\n",
      " [0.3766022 ]\n",
      " [0.37316075]\n",
      " [0.37355286]\n",
      " [0.36907372]\n",
      " [0.37504154]\n",
      " [0.3587336 ]\n",
      " [0.36651912]\n",
      " [0.36594233]\n",
      " [0.3533876 ]\n",
      " [0.32607153]\n",
      " [0.34016877]\n",
      " [0.3337469 ]\n",
      " [0.32838148]\n",
      " [0.3496256 ]\n",
      " [0.32452253]\n",
      " [0.3157184 ]\n",
      " [0.30703074]\n",
      " [0.29521903]\n",
      " [0.25751215]\n",
      " [0.268552  ]\n",
      " [0.21659929]\n",
      " [0.19959398]\n",
      " [0.21159783]\n",
      " [0.22345221]\n",
      " [0.24346602]\n",
      " [0.22728354]\n",
      " [0.23817149]\n",
      " [0.21519136]\n",
      " [0.2228196 ]\n",
      " [0.21451774]\n",
      " [0.21693128]\n",
      " [0.22450465]\n",
      " [0.21302857]\n",
      " [0.21487302]\n",
      " [0.20971315]\n",
      " [0.19596073]\n",
      " [0.18835962]\n",
      " [0.19855526]\n",
      " [0.2002842 ]\n",
      " [0.20724139]\n",
      " [0.20290935]\n",
      " [0.18621647]\n",
      " [0.1880883 ]\n",
      " [0.180193  ]\n",
      " [0.18220185]\n",
      " [0.18299216]]\n",
      "775    47.982426\n",
      "776    43.491211\n",
      "777    40.981346\n",
      "778    44.343163\n",
      "779    44.909615\n",
      "780    47.179443\n",
      "781    45.767841\n",
      "782    40.269669\n",
      "783    40.891346\n",
      "784    38.259220\n",
      "785    38.931446\n",
      "786    39.195419\n",
      "Name: Close, dtype: float64\n"
     ]
    }
   ],
   "source": [
    "final_prediction = np.reshape(prediction, (prediction.shape[0], 1))\n",
    "print(final_prediction)\n",
    "print(close_data[775:])"
   ]
  },
  {
   "cell_type": "code",
   "execution_count": 38,
   "metadata": {},
   "outputs": [],
   "source": [
    "final_prediction = scaler.inverse_transform(final_prediction)"
   ]
  },
  {
   "cell_type": "code",
   "execution_count": 39,
   "metadata": {},
   "outputs": [
    {
     "name": "stdout",
     "output_type": "stream",
     "text": [
      "[[ 81.281296]\n",
      " [ 81.933495]\n",
      " [ 79.81957 ]\n",
      " [ 81.62681 ]\n",
      " [ 83.06126 ]\n",
      " [ 87.01849 ]\n",
      " [ 86.99719 ]\n",
      " [ 88.540535]\n",
      " [ 90.58814 ]\n",
      " [ 87.58363 ]\n",
      " [ 87.69661 ]\n",
      " [ 89.08688 ]\n",
      " [ 92.68966 ]\n",
      " [ 98.1774  ]\n",
      " [ 95.44612 ]\n",
      " [ 97.827354]\n",
      " [101.84311 ]\n",
      " [101.38013 ]\n",
      " [105.26637 ]\n",
      " [111.72267 ]\n",
      " [113.09613 ]\n",
      " [121.05739 ]\n",
      " [119.58447 ]\n",
      " [122.58569 ]\n",
      " [119.72629 ]\n",
      " [115.99265 ]\n",
      " [106.123825]\n",
      " [110.37814 ]\n",
      " [103.86141 ]\n",
      " [106.18899 ]\n",
      " [105.28992 ]\n",
      " [ 95.970406]\n",
      " [ 98.999825]\n",
      " [100.2811  ]\n",
      " [ 97.0204  ]\n",
      " [ 97.48062 ]\n",
      " [ 98.20297 ]\n",
      " [ 96.79215 ]\n",
      " [ 98.12778 ]\n",
      " [102.958664]\n",
      " [100.653625]\n",
      " [ 97.836464]\n",
      " [ 96.94712 ]\n",
      " [ 97.048454]\n",
      " [ 95.89095 ]\n",
      " [ 97.43316 ]\n",
      " [ 93.21887 ]\n",
      " [ 95.2308  ]\n",
      " [ 95.08175 ]\n",
      " [ 91.837364]\n",
      " [ 84.77837 ]\n",
      " [ 88.42137 ]\n",
      " [ 86.76183 ]\n",
      " [ 85.375305]\n",
      " [ 90.86519 ]\n",
      " [ 84.37808 ]\n",
      " [ 82.10293 ]\n",
      " [ 79.857864]\n",
      " [ 76.8055  ]\n",
      " [ 67.061325]\n",
      " [ 69.91423 ]\n",
      " [ 56.488655]\n",
      " [ 52.09416 ]\n",
      " [ 55.196182]\n",
      " [ 58.25958 ]\n",
      " [ 63.43153 ]\n",
      " [ 59.24967 ]\n",
      " [ 62.063324]\n",
      " [ 56.12482 ]\n",
      " [ 58.0961  ]\n",
      " [ 55.950745]\n",
      " [ 56.574448]\n",
      " [ 58.53155 ]\n",
      " [ 55.56591 ]\n",
      " [ 56.042553]\n",
      " [ 54.709145]\n",
      " [ 51.15526 ]\n",
      " [ 49.190987]\n",
      " [ 51.825733]\n",
      " [ 52.272526]\n",
      " [ 54.070396]\n",
      " [ 52.950912]\n",
      " [ 48.637157]\n",
      " [ 49.120872]\n",
      " [ 47.080578]\n",
      " [ 47.5997  ]\n",
      " [ 47.803932]]\n",
      "[47.982426 43.491211 40.981346 44.343163 44.909615 47.179443 45.767841\n",
      " 40.269669 40.891346 38.25922  38.931446 39.195419]\n"
     ]
    }
   ],
   "source": [
    "print(final_prediction)\n",
    "print(close_data[775:].values)"
   ]
  },
  {
   "cell_type": "markdown",
   "metadata": {},
   "source": [
    "## Seperate Plots for predicted and actual Prices"
   ]
  },
  {
   "cell_type": "code",
   "execution_count": 40,
   "metadata": {},
   "outputs": [
    {
     "data": {
      "image/png": "[encoded data removed]",
      "text/plain": [
       "<Figure size 432x288 with 2 Axes>"
      ]
     },
     "metadata": {
      "needs_background": "light"
     },
     "output_type": "display_data"
    }
   ],
   "source": [
    "figure, axis = plt.subplots(2)\n",
    "\n",
    "axis[0].plot(final_prediction, 'black')\n",
    "axis[1].plot(close_data[700:].values)\n",
    "plt.show()"
   ]
  },
  {
   "cell_type": "markdown",
   "metadata": {},
   "source": [
    "## Combined Graphs"
   ]
  },
  {
   "cell_type": "code",
   "execution_count": 44,
   "metadata": {},
   "outputs": [
    {
     "data": {
      "image/png": "[encoded data removed]",
      "text/plain": [
       "<Figure size 432x288 with 1 Axes>"
      ]
     },
     "metadata": {
      "needs_background": "light"
     },
     "output_type": "display_data"
    }
   ],
   "source": [
    "plt.plot(final_prediction, 'blue', label='Prediction')\n",
    "plt.plot(close_data[700:].values, 'orange', label='Actual')\n",
    "plt.legend()\n",
    "plt.show()"
   ]
  },
  {
   "cell_type": "markdown",
   "metadata": {},
   "source": [
    "## Now Predicting tommorow's solana price using current solana price"
   ]
  },
  {
   "cell_type": "code",
   "execution_count": 45,
   "metadata": {},
   "outputs": [],
   "source": [
    "import requests "
   ]
  },
  {
   "cell_type": "code",
   "execution_count": 47,
   "metadata": {},
   "outputs": [],
   "source": [
    "price_url = \"https://api.coingecko.com/api/v3/coins/solana\""
   ]
  },
  {
   "cell_type": "code",
   "execution_count": 48,
   "metadata": {},
   "outputs": [],
   "source": [
    "response = requests.get(price_url)\n",
    "\n",
    "json_response = response.json()"
   ]
  },
  {
   "cell_type": "markdown",
   "metadata": {},
   "source": [
    "## Gets the current Solana price from the api "
   ]
  },
  {
   "cell_type": "code",
   "execution_count": 78,
   "metadata": {},
   "outputs": [],
   "source": [
    "current_price = json_response['market_data']['current_price']['usd']"
   ]
  },
  {
   "cell_type": "code",
   "execution_count": 79,
   "metadata": {},
   "outputs": [],
   "source": [
    "next_day_pred_data = []\n",
    "next_day_pred_data.append(current_price)"
   ]
  },
  {
   "cell_type": "code",
   "execution_count": 80,
   "metadata": {},
   "outputs": [
    {
     "data": {
      "text/plain": [
       "numpy.ndarray"
      ]
     },
     "execution_count": 80,
     "metadata": {},
     "output_type": "execute_result"
    }
   ],
   "source": [
    "next_day_pred_data = np.array(next_day_pred_data)\n",
    "\n",
    "type(next_day_pred_data)"
   ]
  },
  {
   "cell_type": "code",
   "execution_count": 81,
   "metadata": {},
   "outputs": [],
   "source": [
    "# Adding the min max scaler to the test data \n",
    "next_day_pred_data = scaler.transform(next_day_pred_data.reshape(-1, 1))"
   ]
  },
  {
   "cell_type": "code",
   "execution_count": 82,
   "metadata": {},
   "outputs": [],
   "source": [
    "next_day_pred_data = np.reshape(next_day_pred_data, (next_day_pred_data.shape[0], next_day_pred_data.shape[1], 1))"
   ]
  },
  {
   "cell_type": "code",
   "execution_count": 83,
   "metadata": {},
   "outputs": [],
   "source": [
    "future_prediction = model.predict(next_day_pred_data)\n",
    "\n",
    "future_prediction = np.reshape(future_prediction, (1, 1))"
   ]
  },
  {
   "cell_type": "code",
   "execution_count": 84,
   "metadata": {},
   "outputs": [
    {
     "name": "stdout",
     "output_type": "stream",
     "text": [
      "[[49.728256]]\n"
     ]
    }
   ],
   "source": [
    "future_prediction = scaler.inverse_transform(future_prediction)\n",
    "print(future_prediction)\n",
    "\n",
    "final_amt = future_prediction[0][0]\n"
   ]
  },
  {
   "cell_type": "code",
   "execution_count": 85,
   "metadata": {},
   "outputs": [
    {
     "name": "stdout",
     "output_type": "stream",
     "text": [
      "The future final amount is: 49.72825622558594\n"
     ]
    }
   ],
   "source": [
    "print(f\"The future final amount is: {final_amt}\")"
   ]
  },
  {
   "cell_type": "code",
   "execution_count": null,
   "metadata": {},
   "outputs": [],
   "source": []
  }
 ],
 "metadata": {
  "kernelspec": {
   "display_name": "Python 3",
   "language": "python",
   "name": "python3"
  },
  "language_info": {
   "codemirror_mode": {
    "name": "ipython",
    "version": 3
   },
   "file_extension": ".py",
   "mimetype": "text/x-python",
   "name": "python",
   "nbconvert_exporter": "python",
   "pygments_lexer": "ipython3",
   "version": "3.8.5"
  }
 },
 "nbformat": 4,
 "nbformat_minor": 4
}
